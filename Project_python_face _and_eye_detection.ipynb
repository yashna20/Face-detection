{
 "cells": [
  {
   "cell_type": "code",
   "execution_count": 2,
   "metadata": {},
   "outputs": [],
   "source": [
    "import cv2\n",
    "import numpy as np\n",
    "import dlib\n",
    "\n",
    "cap = cv2.VideoCapture(0)#opens the default camera\n",
    "\n",
    "detector = dlib.get_frontal_face_detector()\n",
    "predictor = dlib.shape_predictor(\"shape_predictor_68_face_landmarks.dat\")\n",
    "\n",
    "while True:\n",
    "    ret, frame = cap.read()\n",
    "    gray = cv2.cvtColor(frame, cv2.COLOR_BGR2GRAY) # converting to gray scale\n",
    "\n",
    "    faces = detector(gray)\n",
    "\n",
    "\n",
    "    for face in faces:\n",
    "\n",
    "        x1 = face.left()\n",
    "        y1 = face.top()\n",
    "        x2 = face.right()\n",
    "        y2 = face.bottom()\n",
    "        cv2.rectangle(frame, (x1, y1), (x2, y2), (0, 255, 0), 2) # forming rectangle\n",
    "\n",
    "        landmarks = predictor(gray, face)\n",
    "        \n",
    "        \n",
    "        right_eye_area = np.array([(landmarks.part(36).x, landmarks.part(36).y),\n",
    "                                   (landmarks.part(37).x, landmarks.part(37).y),\n",
    "                                   (landmarks.part(38).x, landmarks.part(38).y),\n",
    "                                   (landmarks.part(39).x, landmarks.part(39).y),\n",
    "                                   (landmarks.part(40).x, landmarks.part(40).y),\n",
    "                                   (landmarks.part(41).x, landmarks.part(41).y)], np.int32)\n",
    "        cv2.polylines(frame, [right_eye_area], True, (0, 0, 255), 1)\n",
    "\n",
    "\n",
    "        left_eye_area = np.array([ (landmarks.part(42).x, landmarks.part(43).y),\n",
    "                                   (landmarks.part(43).x, landmarks.part(43).y),\n",
    "                                   (landmarks.part(44).x, landmarks.part(44).y),\n",
    "                                   (landmarks.part(45).x, landmarks.part(45).y),\n",
    "                                   (landmarks.part(46).x, landmarks.part(46).y),\n",
    "                                   (landmarks.part(47).x, landmarks.part(47).y)], np.int32)\n",
    "        cv2.polylines(frame, [left_eye_area], True, (0, 0, 255), 1)\n",
    "        \n",
    "        \n",
    "        for i in range(48,68): # detecting mouth\n",
    "            x = landmarks.part(i).x\n",
    "            y = landmarks.part(i).y\n",
    "            cv2.circle(frame, (x, y), 4, (255, 0, 0), -1) # (x,y)-center point of circle, 44 pixels, -1 to fill the circle \n",
    "                                                          # with color\n",
    "\n",
    "\n",
    "    cv2.imshow(\"Frame\", frame)\n",
    "    key = cv2.waitKey(1) # exit\n",
    "    if key == 27:\n",
    "        break\n",
    "cap.release()\n",
    "cv2.destroyAllWindows()\n"
   ]
  },
  {
   "cell_type": "code",
   "execution_count": null,
   "metadata": {},
   "outputs": [],
   "source": []
  },
  {
   "cell_type": "code",
   "execution_count": null,
   "metadata": {},
   "outputs": [],
   "source": []
  }
 ],
 "metadata": {
  "kernelspec": {
   "display_name": "Python 3",
   "language": "python",
   "name": "python3"
  },
  "language_info": {
   "codemirror_mode": {
    "name": "ipython",
    "version": 3
   },
   "file_extension": ".py",
   "mimetype": "text/x-python",
   "name": "python",
   "nbconvert_exporter": "python",
   "pygments_lexer": "ipython3",
   "version": "3.7.3"
  }
 },
 "nbformat": 4,
 "nbformat_minor": 2
}
